{
 "cells": [
  {
   "cell_type": "code",
   "execution_count": 67,
   "metadata": {},
   "outputs": [],
   "source": [
    "import numpy as np\n",
    "import pandas as pd\n",
    "import matplotlib.pyplot as plt"
   ]
  },
  {
   "cell_type": "code",
   "execution_count": 68,
   "metadata": {
    "scrolled": true
   },
   "outputs": [
    {
     "data": {
      "text/plain": [
       "array([[        nan,         nan],\n",
       "       [1.10000e+00, 3.93430e+04],\n",
       "       [1.30000e+00, 4.62050e+04],\n",
       "       [1.50000e+00, 3.77310e+04],\n",
       "       [2.00000e+00, 4.35250e+04],\n",
       "       [2.20000e+00, 3.98910e+04],\n",
       "       [2.90000e+00, 5.66420e+04],\n",
       "       [3.00000e+00, 6.01500e+04],\n",
       "       [3.20000e+00, 5.44450e+04],\n",
       "       [3.20000e+00, 6.44450e+04],\n",
       "       [3.70000e+00, 5.71890e+04],\n",
       "       [3.90000e+00, 6.32180e+04],\n",
       "       [4.00000e+00, 5.57940e+04],\n",
       "       [4.00000e+00, 5.69570e+04],\n",
       "       [4.10000e+00, 5.70810e+04],\n",
       "       [4.50000e+00, 6.11110e+04],\n",
       "       [4.90000e+00, 6.79380e+04],\n",
       "       [5.10000e+00, 6.60290e+04],\n",
       "       [5.30000e+00, 8.30880e+04],\n",
       "       [5.90000e+00, 8.13630e+04],\n",
       "       [6.00000e+00, 9.39400e+04],\n",
       "       [6.80000e+00, 9.17380e+04],\n",
       "       [7.10000e+00, 9.82730e+04],\n",
       "       [7.90000e+00, 1.01302e+05],\n",
       "       [8.20000e+00, 1.13812e+05],\n",
       "       [8.70000e+00, 1.09431e+05],\n",
       "       [9.00000e+00, 1.05582e+05],\n",
       "       [9.50000e+00, 1.16969e+05],\n",
       "       [9.60000e+00, 1.12635e+05],\n",
       "       [1.03000e+01, 1.22391e+05],\n",
       "       [1.05000e+01, 1.21872e+05]])"
      ]
     },
     "execution_count": 68,
     "metadata": {},
     "output_type": "execute_result"
    }
   ],
   "source": [
    "data = np.genfromtxt(\"Salary_Data.csv\", delimiter = \",\")\n",
    "data"
   ]
  },
  {
   "cell_type": "code",
   "execution_count": 69,
   "metadata": {},
   "outputs": [],
   "source": [
    "data = data[1:,:]"
   ]
  },
  {
   "cell_type": "code",
   "execution_count": 70,
   "metadata": {
    "scrolled": true
   },
   "outputs": [
    {
     "data": {
      "text/plain": [
       "array([[1.10000e+00, 3.93430e+04],\n",
       "       [1.30000e+00, 4.62050e+04],\n",
       "       [1.50000e+00, 3.77310e+04],\n",
       "       [2.00000e+00, 4.35250e+04],\n",
       "       [2.20000e+00, 3.98910e+04],\n",
       "       [2.90000e+00, 5.66420e+04],\n",
       "       [3.00000e+00, 6.01500e+04],\n",
       "       [3.20000e+00, 5.44450e+04],\n",
       "       [3.20000e+00, 6.44450e+04],\n",
       "       [3.70000e+00, 5.71890e+04],\n",
       "       [3.90000e+00, 6.32180e+04],\n",
       "       [4.00000e+00, 5.57940e+04],\n",
       "       [4.00000e+00, 5.69570e+04],\n",
       "       [4.10000e+00, 5.70810e+04],\n",
       "       [4.50000e+00, 6.11110e+04],\n",
       "       [4.90000e+00, 6.79380e+04],\n",
       "       [5.10000e+00, 6.60290e+04],\n",
       "       [5.30000e+00, 8.30880e+04],\n",
       "       [5.90000e+00, 8.13630e+04],\n",
       "       [6.00000e+00, 9.39400e+04],\n",
       "       [6.80000e+00, 9.17380e+04],\n",
       "       [7.10000e+00, 9.82730e+04],\n",
       "       [7.90000e+00, 1.01302e+05],\n",
       "       [8.20000e+00, 1.13812e+05],\n",
       "       [8.70000e+00, 1.09431e+05],\n",
       "       [9.00000e+00, 1.05582e+05],\n",
       "       [9.50000e+00, 1.16969e+05],\n",
       "       [9.60000e+00, 1.12635e+05],\n",
       "       [1.03000e+01, 1.22391e+05],\n",
       "       [1.05000e+01, 1.21872e+05]])"
      ]
     },
     "execution_count": 70,
     "metadata": {},
     "output_type": "execute_result"
    }
   ],
   "source": [
    "data"
   ]
  },
  {
   "cell_type": "code",
   "execution_count": 71,
   "metadata": {},
   "outputs": [
    {
     "data": {
      "text/plain": [
       "(30,)"
      ]
     },
     "execution_count": 71,
     "metadata": {},
     "output_type": "execute_result"
    }
   ],
   "source": [
    "x = data[:,0]\n",
    "x.shape"
   ]
  },
  {
   "cell_type": "code",
   "execution_count": 72,
   "metadata": {},
   "outputs": [
    {
     "data": {
      "text/plain": [
       "(30,)"
      ]
     },
     "execution_count": 72,
     "metadata": {},
     "output_type": "execute_result"
    }
   ],
   "source": [
    "y = data[:,1]\n",
    "y_pred = None\n",
    "y.shape"
   ]
  },
  {
   "cell_type": "code",
   "execution_count": 73,
   "metadata": {},
   "outputs": [],
   "source": [
    "def error(m_current, b_current, x, y):\n",
    "    total_error = 0\n",
    "    for i in range(len(x)):\n",
    "        total_error += (y[i] - (m_current * x[i] + b_current)) ** 2\n",
    "    return (total_error // (2 * len(x))) "
   ]
  },
  {
   "cell_type": "code",
   "execution_count": 74,
   "metadata": {},
   "outputs": [],
   "source": [
    "def step_gradient(m , b, x, y, learning_rate):\n",
    "    m_gradient = 0\n",
    "    b_gradient = 0\n",
    "    le = len(x)\n",
    "    for i in range(len(x)):\n",
    "        b_gradient += -1/le * (y[i] - (m * x[i] + b))\n",
    "        m_gradient += -1/le * (y[i] - (m * x[i] + b)) * x[i]\n",
    "    new_b = b - (learning_rate * b_gradient)\n",
    "    new_m = m - (learning_rate * m_gradient)\n",
    "    return [new_m, new_b]"
   ]
  },
  {
   "cell_type": "code",
   "execution_count": 75,
   "metadata": {},
   "outputs": [],
   "source": [
    "def gradient_descent_runner(m_current, b_current, x, y, learning_rate):\n",
    "    m = m_current\n",
    "    b = b_current\n",
    "    for i in range(1,10001):\n",
    "        m, b = step_gradient(m, b, x, y, learning_rate)\n",
    "        if(1000%i == 0 and i % 100 == 0):\n",
    "            print(m,\"   \", b,\"   \",error(m,b,x,y))\n",
    "    return [m , b]"
   ]
  },
  {
   "cell_type": "code",
   "execution_count": 76,
   "metadata": {},
   "outputs": [],
   "source": [
    "def run():\n",
    "    m = 0\n",
    "    b = 0\n",
    "    toterror = 0\n",
    "    learning_rate = 0.01\n",
    "    m, b = gradient_descent_runner(m, b, x, y, learning_rate)\n",
    "    y_pred = m*x +b\n",
    "    print(\"predion after training:\")\n",
    "    for i in range(len(x)):\n",
    "        print(m*x[i] + b , \"         \", y[i])\n",
    "    plt.scatter(x, y ,color = 'red')\n",
    "    plt.plot(x, y_pred)\n",
    "    plt.title(\"Salary vs Experience Model\")\n",
    "    plt.show()"
   ]
  },
  {
   "cell_type": "code",
   "execution_count": 77,
   "metadata": {
    "scrolled": true
   },
   "outputs": [
    {
     "name": "stdout",
     "output_type": "stream",
     "text": [
      "12315.527430123682     6481.917498721375     55941133.0\n",
      "11768.688493741762     10166.919951092654     42025778.0\n",
      "10678.43927859623     17513.82004216668     23043109.0\n",
      "9876.112752879602     22920.485548522254     16526873.0\n",
      "predion after training:\n",
      "36187.15873955563           39343.0\n",
      "38077.15120429758           46205.0\n",
      "39967.143669039535           37731.0\n",
      "44692.12483089442           43525.0\n",
      "46582.11729563638           39891.0\n",
      "53197.09092223323           56642.0\n",
      "54142.0871546042           60150.0\n",
      "56032.07961934616           54445.0\n",
      "56032.07961934616           64445.0\n",
      "60757.06078120104           57189.0\n",
      "62647.053245942996           63218.0\n",
      "63592.04947831397           55794.0\n",
      "63592.04947831397           56957.0\n",
      "64537.04571068495           57081.0\n",
      "68317.03064016886           61111.0\n",
      "72097.01556965278           67938.0\n",
      "73987.00803439473           66029.0\n",
      "75877.00049913669           83088.0\n",
      "81546.97789336255           81363.0\n",
      "82491.97412573353           93940.0\n",
      "90051.94398470136           91738.0\n",
      "92886.93268181427           98273.0\n",
      "100446.9025407821           101302.0\n",
      "103281.89123789503           113812.0\n",
      "108006.87239974992           109431.0\n",
      "110841.86109686285           105582.0\n",
      "115566.84225871775           116969.0\n",
      "116511.83849108873           112635.0\n",
      "123126.81211768558           122391.0\n",
      "125016.80458242752           121872.0\n"
     ]
    },
    {
     "data": {
      "image/png": "[encoded data removed]",
      "text/plain": [
       "<Figure size 432x288 with 1 Axes>"
      ]
     },
     "metadata": {},
     "output_type": "display_data"
    }
   ],
   "source": [
    "if __name__ == \"__main__\":\n",
    "    run()"
   ]
  }
 ],
 "metadata": {
  "kernelspec": {
   "display_name": "Python 3",
   "language": "python",
   "name": "python3"
  },
  "language_info": {
   "codemirror_mode": {
    "name": "ipython",
    "version": 3
   },
   "file_extension": ".py",
   "mimetype": "text/x-python",
   "name": "python",
   "nbconvert_exporter": "python",
   "pygments_lexer": "ipython3",
   "version": "3.6.5"
  }
 },
 "nbformat": 4,
 "nbformat_minor": 2
}
